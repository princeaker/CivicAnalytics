{
 "cells": [
  {
   "cell_type": "code",
   "execution_count": 1,
   "metadata": {
    "collapsed": true
   },
   "outputs": [],
   "source": [
    "import pandas as pd\n",
    "import numpy as np\n",
    "import matplotlib.pyplot as plt\n",
    "%matplotlib inline\n",
    "import geopandas as gpd\n",
    "from shapely.geometry import Point\n",
    "from geopandas import GeoSeries, GeoDataFrame\n",
    "import json"
   ]
  },
  {
   "cell_type": "markdown",
   "metadata": {},
   "source": [
    "## Problem \n",
    "Can the descriptor of a park complaint and the historical crime data of the parks be used to determine whether or not action needs to be taken by the Parks department"
   ]
  },
  {
   "cell_type": "code",
   "execution_count": 2,
   "metadata": {
    "collapsed": true
   },
   "outputs": [],
   "source": [
    "df = pd.read_csv('311parkcomplaints.csv')"
   ]
  },
  {
   "cell_type": "code",
   "execution_count": 3,
   "metadata": {
    "collapsed": true
   },
   "outputs": [],
   "source": [
    "nyc = gpd.read_file('nycd_17c/nycd.shp')"
   ]
  },
  {
   "cell_type": "code",
   "execution_count": 4,
   "metadata": {},
   "outputs": [
    {
     "data": {
      "text/html": [
       "<div>\n",
       "<style>\n",
       "    .dataframe thead tr:only-child th {\n",
       "        text-align: right;\n",
       "    }\n",
       "\n",
       "    .dataframe thead th {\n",
       "        text-align: left;\n",
       "    }\n",
       "\n",
       "    .dataframe tbody tr th {\n",
       "        vertical-align: top;\n",
       "    }\n",
       "</style>\n",
       "<table border=\"1\" class=\"dataframe\">\n",
       "  <thead>\n",
       "    <tr style=\"text-align: right;\">\n",
       "      <th></th>\n",
       "      <th>Unique Key</th>\n",
       "      <th>Created Date</th>\n",
       "      <th>Closed Date</th>\n",
       "      <th>Agency</th>\n",
       "      <th>Agency Name</th>\n",
       "      <th>Complaint Type</th>\n",
       "      <th>Descriptor</th>\n",
       "      <th>Location Type</th>\n",
       "      <th>Incident Zip</th>\n",
       "      <th>Incident Address</th>\n",
       "      <th>...</th>\n",
       "      <th>Bridge Highway Name</th>\n",
       "      <th>Bridge Highway Direction</th>\n",
       "      <th>Road Ramp</th>\n",
       "      <th>Bridge Highway Segment</th>\n",
       "      <th>Garage Lot Name</th>\n",
       "      <th>Ferry Direction</th>\n",
       "      <th>Ferry Terminal Name</th>\n",
       "      <th>Latitude</th>\n",
       "      <th>Longitude</th>\n",
       "      <th>Location</th>\n",
       "    </tr>\n",
       "  </thead>\n",
       "  <tbody>\n",
       "    <tr>\n",
       "      <th>0</th>\n",
       "      <td>35120774</td>\n",
       "      <td>12/28/2016 13:48</td>\n",
       "      <td>12/29/2016 13:02</td>\n",
       "      <td>DPR</td>\n",
       "      <td>Department of Parks and Recreation</td>\n",
       "      <td>Violation of Park Rules</td>\n",
       "      <td>Obstructing Public Use</td>\n",
       "      <td>Park</td>\n",
       "      <td>11211.0</td>\n",
       "      <td>NaN</td>\n",
       "      <td>...</td>\n",
       "      <td>NaN</td>\n",
       "      <td>NaN</td>\n",
       "      <td>NaN</td>\n",
       "      <td>NaN</td>\n",
       "      <td>NaN</td>\n",
       "      <td>NaN</td>\n",
       "      <td>NaN</td>\n",
       "      <td>NaN</td>\n",
       "      <td>NaN</td>\n",
       "      <td>NaN</td>\n",
       "    </tr>\n",
       "    <tr>\n",
       "      <th>1</th>\n",
       "      <td>35118466</td>\n",
       "      <td>12/28/2016 11:59</td>\n",
       "      <td>12/28/2016 12:28</td>\n",
       "      <td>DPR</td>\n",
       "      <td>Department of Parks and Recreation</td>\n",
       "      <td>Violation of Park Rules</td>\n",
       "      <td>Obstructing Public Use</td>\n",
       "      <td>Park</td>\n",
       "      <td>10459.0</td>\n",
       "      <td>NaN</td>\n",
       "      <td>...</td>\n",
       "      <td>NaN</td>\n",
       "      <td>NaN</td>\n",
       "      <td>NaN</td>\n",
       "      <td>NaN</td>\n",
       "      <td>NaN</td>\n",
       "      <td>NaN</td>\n",
       "      <td>NaN</td>\n",
       "      <td>NaN</td>\n",
       "      <td>NaN</td>\n",
       "      <td>NaN</td>\n",
       "    </tr>\n",
       "    <tr>\n",
       "      <th>2</th>\n",
       "      <td>35117255</td>\n",
       "      <td>12/28/2016 11:41</td>\n",
       "      <td>4/1/2017 13:54</td>\n",
       "      <td>DPR</td>\n",
       "      <td>Department of Parks and Recreation</td>\n",
       "      <td>Violation of Park Rules</td>\n",
       "      <td>Unlicensed Vendors</td>\n",
       "      <td>Park</td>\n",
       "      <td>10007.0</td>\n",
       "      <td>NaN</td>\n",
       "      <td>...</td>\n",
       "      <td>NaN</td>\n",
       "      <td>NaN</td>\n",
       "      <td>NaN</td>\n",
       "      <td>NaN</td>\n",
       "      <td>NaN</td>\n",
       "      <td>NaN</td>\n",
       "      <td>NaN</td>\n",
       "      <td>NaN</td>\n",
       "      <td>NaN</td>\n",
       "      <td>NaN</td>\n",
       "    </tr>\n",
       "    <tr>\n",
       "      <th>3</th>\n",
       "      <td>35112397</td>\n",
       "      <td>12/27/2016 13:06</td>\n",
       "      <td>4/1/2017 13:54</td>\n",
       "      <td>DPR</td>\n",
       "      <td>Department of Parks and Recreation</td>\n",
       "      <td>Violation of Park Rules</td>\n",
       "      <td>Unsafe Use of Playground</td>\n",
       "      <td>Park</td>\n",
       "      <td>10031.0</td>\n",
       "      <td>NaN</td>\n",
       "      <td>...</td>\n",
       "      <td>NaN</td>\n",
       "      <td>NaN</td>\n",
       "      <td>NaN</td>\n",
       "      <td>NaN</td>\n",
       "      <td>NaN</td>\n",
       "      <td>NaN</td>\n",
       "      <td>NaN</td>\n",
       "      <td>NaN</td>\n",
       "      <td>NaN</td>\n",
       "      <td>NaN</td>\n",
       "    </tr>\n",
       "    <tr>\n",
       "      <th>4</th>\n",
       "      <td>35108246</td>\n",
       "      <td>12/26/2016 12:43</td>\n",
       "      <td>12/26/2016 12:57</td>\n",
       "      <td>DPR</td>\n",
       "      <td>Department of Parks and Recreation</td>\n",
       "      <td>Violation of Park Rules</td>\n",
       "      <td>Obstructing Public Use</td>\n",
       "      <td>Park</td>\n",
       "      <td>11426.0</td>\n",
       "      <td>NaN</td>\n",
       "      <td>...</td>\n",
       "      <td>NaN</td>\n",
       "      <td>NaN</td>\n",
       "      <td>NaN</td>\n",
       "      <td>NaN</td>\n",
       "      <td>NaN</td>\n",
       "      <td>NaN</td>\n",
       "      <td>NaN</td>\n",
       "      <td>NaN</td>\n",
       "      <td>NaN</td>\n",
       "      <td>NaN</td>\n",
       "    </tr>\n",
       "  </tbody>\n",
       "</table>\n",
       "<p>5 rows × 53 columns</p>\n",
       "</div>"
      ],
      "text/plain": [
       "   Unique Key      Created Date       Closed Date Agency  \\\n",
       "0    35120774  12/28/2016 13:48  12/29/2016 13:02    DPR   \n",
       "1    35118466  12/28/2016 11:59  12/28/2016 12:28    DPR   \n",
       "2    35117255  12/28/2016 11:41    4/1/2017 13:54    DPR   \n",
       "3    35112397  12/27/2016 13:06    4/1/2017 13:54    DPR   \n",
       "4    35108246  12/26/2016 12:43  12/26/2016 12:57    DPR   \n",
       "\n",
       "                          Agency Name           Complaint Type  \\\n",
       "0  Department of Parks and Recreation  Violation of Park Rules   \n",
       "1  Department of Parks and Recreation  Violation of Park Rules   \n",
       "2  Department of Parks and Recreation  Violation of Park Rules   \n",
       "3  Department of Parks and Recreation  Violation of Park Rules   \n",
       "4  Department of Parks and Recreation  Violation of Park Rules   \n",
       "\n",
       "                 Descriptor Location Type  Incident Zip Incident Address  \\\n",
       "0    Obstructing Public Use          Park       11211.0              NaN   \n",
       "1    Obstructing Public Use          Park       10459.0              NaN   \n",
       "2        Unlicensed Vendors          Park       10007.0              NaN   \n",
       "3  Unsafe Use of Playground          Park       10031.0              NaN   \n",
       "4    Obstructing Public Use          Park       11426.0              NaN   \n",
       "\n",
       "    ...    Bridge Highway Name Bridge Highway Direction Road Ramp  \\\n",
       "0   ...                    NaN                      NaN       NaN   \n",
       "1   ...                    NaN                      NaN       NaN   \n",
       "2   ...                    NaN                      NaN       NaN   \n",
       "3   ...                    NaN                      NaN       NaN   \n",
       "4   ...                    NaN                      NaN       NaN   \n",
       "\n",
       "  Bridge Highway Segment Garage Lot Name Ferry Direction Ferry Terminal Name  \\\n",
       "0                    NaN             NaN             NaN                 NaN   \n",
       "1                    NaN             NaN             NaN                 NaN   \n",
       "2                    NaN             NaN             NaN                 NaN   \n",
       "3                    NaN             NaN             NaN                 NaN   \n",
       "4                    NaN             NaN             NaN                 NaN   \n",
       "\n",
       "  Latitude  Longitude Location  \n",
       "0      NaN        NaN      NaN  \n",
       "1      NaN        NaN      NaN  \n",
       "2      NaN        NaN      NaN  \n",
       "3      NaN        NaN      NaN  \n",
       "4      NaN        NaN      NaN  \n",
       "\n",
       "[5 rows x 53 columns]"
      ]
     },
     "execution_count": 4,
     "metadata": {},
     "output_type": "execute_result"
    }
   ],
   "source": [
    "df.head()"
   ]
  },
  {
   "cell_type": "code",
   "execution_count": 5,
   "metadata": {},
   "outputs": [
    {
     "data": {
      "text/plain": [
       "array(['Obstructing Public Use', 'Unlicensed Vendors',\n",
       "       'Unsafe Use of Playground', 'Unauthorized Posting of Signs',\n",
       "       'Biking/Rollerblading off Path', 'Smoking',\n",
       "       'BBQ Outside Authorized Area', 'Unauthorized Climbing',\n",
       "       'Removing Flowers/Plants', 'Unauthorized Film Shoot',\n",
       "       'Use of Newly Seeded Lawn'], dtype=object)"
      ]
     },
     "execution_count": 5,
     "metadata": {},
     "output_type": "execute_result"
    }
   ],
   "source": [
    "df.Descriptor.unique()"
   ]
  },
  {
   "cell_type": "code",
   "execution_count": 6,
   "metadata": {},
   "outputs": [
    {
     "data": {
      "text/plain": [
       "<matplotlib.text.Text at 0x9685c18>"
      ]
     },
     "execution_count": 6,
     "metadata": {},
     "output_type": "execute_result"
    },
    {
     "data": {
      "image/png": "[encoded data removed]",
      "text/plain": [
       "<matplotlib.figure.Figure at 0x2c368d0>"
      ]
     },
     "metadata": {},
     "output_type": "display_data"
    }
   ],
   "source": [
    "df.groupby('Descriptor').size().plot(kind='bar')\n",
    "plt.title('Number of Complaints by Descriptor')"
   ]
  },
  {
   "cell_type": "code",
   "execution_count": 7,
   "metadata": {
    "collapsed": true
   },
   "outputs": [],
   "source": [
    "df['PARK'] = df['Park Facility Name'].apply(lambda x: x.upper())"
   ]
  },
  {
   "cell_type": "code",
   "execution_count": 8,
   "metadata": {
    "collapsed": true
   },
   "outputs": [],
   "source": [
    "df = df[['PARK', 'Created Date', 'Closed Date', 'Agency', 'Complaint Type', 'Descriptor',\n",
    "        'Incident Zip', 'City', 'Status', 'Borough', 'Due Date', 'Resolution Description',\n",
    "        'Borough', 'Y Coordinate (State Plane)', 'X Coordinate (State Plane)', 'Park Borough', 'Latitude', 'Longitude']]"
   ]
  },
  {
   "cell_type": "code",
   "execution_count": 9,
   "metadata": {
    "collapsed": true
   },
   "outputs": [],
   "source": [
    "geometry = [Point(xy) for xy in zip(df['Longitude'], df['Latitude'])]\n",
    "gdf = GeoDataFrame(df, geometry=geometry)"
   ]
  },
  {
   "cell_type": "code",
   "execution_count": 10,
   "metadata": {
    "collapsed": true
   },
   "outputs": [],
   "source": [
    "gdf.crs = {'init' : 'epsg:4326'}"
   ]
  },
  {
   "cell_type": "code",
   "execution_count": 11,
   "metadata": {},
   "outputs": [
    {
     "data": {
      "text/plain": [
       "{u'datum': u'NAD83',\n",
       " u'lat_0': 40.16666666666666,\n",
       " u'lat_1': 40.66666666666666,\n",
       " u'lat_2': 41.03333333333333,\n",
       " u'lon_0': -74,\n",
       " u'no_defs': True,\n",
       " u'proj': u'lcc',\n",
       " u'units': u'us-ft',\n",
       " u'x_0': 300000,\n",
       " u'y_0': 0}"
      ]
     },
     "execution_count": 11,
     "metadata": {},
     "output_type": "execute_result"
    }
   ],
   "source": [
    "nyc.crs"
   ]
  },
  {
   "cell_type": "code",
   "execution_count": 12,
   "metadata": {},
   "outputs": [
    {
     "data": {
      "image/png": "[encoded data removed]",
      "text/plain": [
       "<matplotlib.figure.Figure at 0x9868fd0>"
      ]
     },
     "metadata": {},
     "output_type": "display_data"
    }
   ],
   "source": [
    "gdf.plot()\n",
    "gdf = gdf.to_crs(nyc.crs)"
   ]
  },
  {
   "cell_type": "code",
   "execution_count": 13,
   "metadata": {},
   "outputs": [
    {
     "data": {
      "text/plain": [
       "<matplotlib.text.Text at 0x9cb02b0>"
      ]
     },
     "execution_count": 13,
     "metadata": {},
     "output_type": "execute_result"
    },
    {
     "data": {
      "image/png": "[encoded data removed]",
      "text/plain": [
       "<matplotlib.figure.Figure at 0x9880c18>"
      ]
     },
     "metadata": {},
     "output_type": "display_data"
    }
   ],
   "source": [
    "base = nyc.plot(color = 'orange', edgecolor='lightgray', linewidth=1, figsize=(10,10))\n",
    "gdf.plot(ax=base)\n",
    "plt.title('Parks in NYC')"
   ]
  },
  {
   "cell_type": "code",
   "execution_count": 14,
   "metadata": {
    "collapsed": true,
    "scrolled": true
   },
   "outputs": [],
   "source": [
    "resolutions = df['Resolution Description'].unique()\n",
    "gres = [1,2,4,5,8,10,12,13]\n",
    "res1 = []\n",
    "for i in range(len(resolutions)):\n",
    "    if i in (gres):\n",
    "        res1.append(resolutions[i])\n",
    "        "
   ]
  },
  {
   "cell_type": "code",
   "execution_count": 15,
   "metadata": {},
   "outputs": [
    {
     "data": {
      "text/plain": [
       "['The condition was determined to be an issue appropriate for handling by an alternate entity.  The Department of Parks and Recreation has notified the appropriate resource.',\n",
       " 'The Department of Parks and Recreation has completed the requested work order and corrected the problem.',\n",
       " 'The reported condition was inspected and a summons has been issued.',\n",
       " 'The issue has been inspected and the offending party has been confronted and informed of their wrongdoing.  The situation has been remedied.',\n",
       " 'The condition was determined to be an emergency issue and NYPD was notified.',\n",
       " 'Work to correct the reported condition is under review for a future capital project.',\n",
       " 'The reported condition was inspected and an arrest was made.',\n",
       " 'Work to correct the reported condition has been deferred because of seasonal considerations and will be corrected as soon as possible.']"
      ]
     },
     "execution_count": 15,
     "metadata": {},
     "output_type": "execute_result"
    }
   ],
   "source": [
    "res1"
   ]
  },
  {
   "cell_type": "code",
   "execution_count": 16,
   "metadata": {
    "collapsed": true
   },
   "outputs": [],
   "source": [
    "def make_cat(response):\n",
    "    if response in res1:\n",
    "        return 1\n",
    "    else:\n",
    "        return 0"
   ]
  },
  {
   "cell_type": "code",
   "execution_count": 17,
   "metadata": {
    "collapsed": true
   },
   "outputs": [],
   "source": [
    "df['ActionNeeded'] = df['Resolution Description'].apply(make_cat)"
   ]
  },
  {
   "cell_type": "code",
   "execution_count": 18,
   "metadata": {
    "collapsed": true
   },
   "outputs": [],
   "source": [
    "df_descr = pd.get_dummies(df['Descriptor'])"
   ]
  },
  {
   "cell_type": "code",
   "execution_count": 19,
   "metadata": {
    "collapsed": true
   },
   "outputs": [],
   "source": [
    "df2 = pd.concat([df, df_descr], axis=1)"
   ]
  },
  {
   "cell_type": "code",
   "execution_count": 67,
   "metadata": {},
   "outputs": [],
   "source": [
    "from sklearn.linear_model import LogisticRegression, LogisticRegressionCV\n",
    "from sklearn.grid_search import GridSearchCV\n",
    "from sklearn.model_selection import train_test_split\n",
    "from sklearn import metrics"
   ]
  },
  {
   "cell_type": "code",
   "execution_count": 21,
   "metadata": {},
   "outputs": [
    {
     "data": {
      "text/plain": [
       "Index([u'PARK', u'Created Date', u'Closed Date', u'Agency', u'Complaint Type',\n",
       "       u'Descriptor', u'Incident Zip', u'City', u'Status', u'Borough',\n",
       "       u'Due Date', u'Resolution Description', u'Borough',\n",
       "       u'Y Coordinate (State Plane)', u'X Coordinate (State Plane)',\n",
       "       u'Park Borough', u'Latitude', u'Longitude', u'geometry',\n",
       "       u'ActionNeeded', u'BBQ Outside Authorized Area',\n",
       "       u'Biking/Rollerblading off Path', u'Obstructing Public Use',\n",
       "       u'Removing Flowers/Plants', u'Smoking', u'Unauthorized Climbing',\n",
       "       u'Unauthorized Film Shoot', u'Unauthorized Posting of Signs',\n",
       "       u'Unlicensed Vendors', u'Unsafe Use of Playground',\n",
       "       u'Use of Newly Seeded Lawn'],\n",
       "      dtype='object')"
      ]
     },
     "execution_count": 21,
     "metadata": {},
     "output_type": "execute_result"
    }
   ],
   "source": [
    "df2.columns"
   ]
  },
  {
   "cell_type": "code",
   "execution_count": 22,
   "metadata": {
    "scrolled": true
   },
   "outputs": [
    {
     "data": {
      "text/plain": [
       "0.64543057996485065"
      ]
     },
     "execution_count": 22,
     "metadata": {},
     "output_type": "execute_result"
    }
   ],
   "source": [
    "y = df2['ActionNeeded']\n",
    "features = ['Biking/Rollerblading off Path', 'Obstructing Public Use', 'Removing Flowers/Plants',\n",
    "       'Smoking', 'Unauthorized Climbing', 'Unauthorized Film Shoot', 'Unauthorized Posting of Signs',\n",
    "       'Unlicensed Vendors', 'Unsafe Use of Playground', 'Use of Newly Seeded Lawn']\n",
    "x = df2[features]\n",
    "model = LogisticRegression()\n",
    "model = model.fit(x, y)\n",
    "model.score(x, y)"
   ]
  },
  {
   "cell_type": "code",
   "execution_count": null,
   "metadata": {
    "collapsed": true
   },
   "outputs": [],
   "source": []
  },
  {
   "cell_type": "code",
   "execution_count": 23,
   "metadata": {
    "collapsed": true
   },
   "outputs": [],
   "source": [
    "def get_data(frame, featureslist):\n",
    "    y = frame.ActionNeeded.values\n",
    "    X = frame[featureslist].values\n",
    "    if len(X.shape) == 1:\n",
    "        X = X.reshape(-1, 1)\n",
    "    X_train, X_test, y_train, y_test = train_test_split(X, y, test_size = .33)\n",
    "    return X_train, X_test, y_train, y_test"
   ]
  },
  {
   "cell_type": "code",
   "execution_count": 24,
   "metadata": {
    "collapsed": true
   },
   "outputs": [],
   "source": [
    "def cv_optimize(xtrain, ytrain, n_folds=10, num_p=100):\n",
    "    clf = LogisticRegression()\n",
    "    parameters = {\"C\": np.logspace(-4, 3, num=num_p)}\n",
    "    gs = GridSearchCV(clf, param_grid=parameters, cv=n_folds)\n",
    "    gs.fit(xtrain, ytrain)\n",
    "    return gs.best_params_, gs.best_score_"
   ]
  },
  {
   "cell_type": "code",
   "execution_count": 25,
   "metadata": {
    "collapsed": true
   },
   "outputs": [],
   "source": [
    "def fit_logistic(xtrain, ytrain, xtest, ytest, reg=0.0001):\n",
    "    clf2 = LogisticRegression(C=reg)\n",
    "    clf2.fit(xtrain, ytrain)\n",
    "    probs = clf2.predict(xtest)\n",
    "    return probs, clf2"
   ]
  },
  {
   "cell_type": "code",
   "execution_count": 26,
   "metadata": {
    "collapsed": true
   },
   "outputs": [],
   "source": [
    "def cv_and_fit(frame, featureslist, n_folds=5):\n",
    "    xtrain, xtest, ytrain, ytest = get_data(frame, featureslist)\n",
    "    bp, bs = cv_optimize(xtrain, ytrain, n_folds=n_folds)\n",
    "    predict, clf = fit_logistic(xtrain, ytrain, xtest, ytest, reg=bp['C'])\n",
    "    pred = metrics.accuracy_score(ytest, predict)\n",
    "    return predict, clf, pred"
   ]
  },
  {
   "cell_type": "code",
   "execution_count": 27,
   "metadata": {
    "collapsed": true
   },
   "outputs": [],
   "source": [
    "res, clf, score = cv_and_fit(df2, features)"
   ]
  },
  {
   "cell_type": "code",
   "execution_count": 69,
   "metadata": {},
   "outputs": [
    {
     "name": "stdout",
     "output_type": "stream",
     "text": [
      "Model accuracy using descriptions of the park complaint: 0.642287234043\n"
     ]
    }
   ],
   "source": [
    "print(\"Model accuracy using descriptions of the park complaint: \" + str(score))"
   ]
  },
  {
   "cell_type": "code",
   "execution_count": 29,
   "metadata": {
    "collapsed": true
   },
   "outputs": [],
   "source": [
    "crime_data = pd.read_excel('nyc_park_crime_stats_q4_2014.xlsx')\n"
   ]
  },
  {
   "cell_type": "code",
   "execution_count": 30,
   "metadata": {},
   "outputs": [
    {
     "data": {
      "text/html": [
       "<div>\n",
       "<style>\n",
       "    .dataframe thead tr:only-child th {\n",
       "        text-align: right;\n",
       "    }\n",
       "\n",
       "    .dataframe thead th {\n",
       "        text-align: left;\n",
       "    }\n",
       "\n",
       "    .dataframe tbody tr th {\n",
       "        vertical-align: top;\n",
       "    }\n",
       "</style>\n",
       "<table border=\"1\" class=\"dataframe\">\n",
       "  <thead>\n",
       "    <tr style=\"text-align: right;\">\n",
       "      <th></th>\n",
       "      <th>PARK</th>\n",
       "      <th>BOROUGH</th>\n",
       "      <th>SIZE (ACRES)</th>\n",
       "      <th>CATEGORY</th>\n",
       "      <th>Murder</th>\n",
       "      <th>RAPE</th>\n",
       "      <th>ROBBERY</th>\n",
       "      <th>FELONY ASSAULT</th>\n",
       "      <th>BURGLARY</th>\n",
       "      <th>GRAND LARCENY</th>\n",
       "      <th>GRAND LARCENY OF MOTOR VEHICLE</th>\n",
       "      <th>TOTAL</th>\n",
       "    </tr>\n",
       "  </thead>\n",
       "  <tbody>\n",
       "    <tr>\n",
       "      <th>0</th>\n",
       "      <td>PELHAM BAY PARK</td>\n",
       "      <td>BRONX</td>\n",
       "      <td>2771.747</td>\n",
       "      <td>ONE ACRE OR LARGER</td>\n",
       "      <td>0</td>\n",
       "      <td>0</td>\n",
       "      <td>0</td>\n",
       "      <td>0</td>\n",
       "      <td>0</td>\n",
       "      <td>0</td>\n",
       "      <td>0</td>\n",
       "      <td>0</td>\n",
       "    </tr>\n",
       "    <tr>\n",
       "      <th>1</th>\n",
       "      <td>VAN CORTLANDT PARK</td>\n",
       "      <td>BRONX</td>\n",
       "      <td>1146.430</td>\n",
       "      <td>ONE ACRE OR LARGER</td>\n",
       "      <td>0</td>\n",
       "      <td>0</td>\n",
       "      <td>0</td>\n",
       "      <td>1</td>\n",
       "      <td>0</td>\n",
       "      <td>2</td>\n",
       "      <td>0</td>\n",
       "      <td>3</td>\n",
       "    </tr>\n",
       "    <tr>\n",
       "      <th>2</th>\n",
       "      <td>ROCKAWAY BEACH AND BOARDWALK</td>\n",
       "      <td>QUEENS</td>\n",
       "      <td>1072.564</td>\n",
       "      <td>ONE ACRE OR LARGER</td>\n",
       "      <td>0</td>\n",
       "      <td>0</td>\n",
       "      <td>0</td>\n",
       "      <td>0</td>\n",
       "      <td>0</td>\n",
       "      <td>0</td>\n",
       "      <td>0</td>\n",
       "      <td>0</td>\n",
       "    </tr>\n",
       "    <tr>\n",
       "      <th>3</th>\n",
       "      <td>FRESHKILLS PARK</td>\n",
       "      <td>STATEN ISLAND</td>\n",
       "      <td>913.320</td>\n",
       "      <td>ONE ACRE OR LARGER</td>\n",
       "      <td>0</td>\n",
       "      <td>0</td>\n",
       "      <td>0</td>\n",
       "      <td>0</td>\n",
       "      <td>0</td>\n",
       "      <td>0</td>\n",
       "      <td>0</td>\n",
       "      <td>0</td>\n",
       "    </tr>\n",
       "    <tr>\n",
       "      <th>4</th>\n",
       "      <td>FLUSHING MEADOWS CORONA PARK</td>\n",
       "      <td>QUEENS</td>\n",
       "      <td>897.690</td>\n",
       "      <td>ONE ACRE OR LARGER</td>\n",
       "      <td>0</td>\n",
       "      <td>0</td>\n",
       "      <td>0</td>\n",
       "      <td>2</td>\n",
       "      <td>2</td>\n",
       "      <td>8</td>\n",
       "      <td>0</td>\n",
       "      <td>12</td>\n",
       "    </tr>\n",
       "  </tbody>\n",
       "</table>\n",
       "</div>"
      ],
      "text/plain": [
       "                           PARK        BOROUGH  SIZE (ACRES)  \\\n",
       "0               PELHAM BAY PARK  BRONX              2771.747   \n",
       "1            VAN CORTLANDT PARK  BRONX              1146.430   \n",
       "2  ROCKAWAY BEACH AND BOARDWALK  QUEENS             1072.564   \n",
       "3               FRESHKILLS PARK  STATEN ISLAND       913.320   \n",
       "4  FLUSHING MEADOWS CORONA PARK  QUEENS              897.690   \n",
       "\n",
       "             CATEGORY  Murder  RAPE  ROBBERY  FELONY ASSAULT  BURGLARY  \\\n",
       "0  ONE ACRE OR LARGER       0     0        0               0         0   \n",
       "1  ONE ACRE OR LARGER       0     0        0               1         0   \n",
       "2  ONE ACRE OR LARGER       0     0        0               0         0   \n",
       "3  ONE ACRE OR LARGER       0     0        0               0         0   \n",
       "4  ONE ACRE OR LARGER       0     0        0               2         2   \n",
       "\n",
       "   GRAND LARCENY  GRAND LARCENY OF MOTOR VEHICLE  TOTAL  \n",
       "0              0                               0      0  \n",
       "1              2                               0      3  \n",
       "2              0                               0      0  \n",
       "3              0                               0      0  \n",
       "4              8                               0     12  "
      ]
     },
     "execution_count": 30,
     "metadata": {},
     "output_type": "execute_result"
    }
   ],
   "source": [
    "crime_data.head()"
   ]
  },
  {
   "cell_type": "code",
   "execution_count": 31,
   "metadata": {
    "collapsed": true
   },
   "outputs": [],
   "source": [
    "crime_data = crime_data[['PARK', 'SIZE (ACRES)', 'TOTAL']]"
   ]
  },
  {
   "cell_type": "code",
   "execution_count": 32,
   "metadata": {
    "collapsed": true
   },
   "outputs": [],
   "source": [
    "result = pd.merge(df2, crime_data, how='left', on='PARK')"
   ]
  },
  {
   "cell_type": "code",
   "execution_count": 66,
   "metadata": {},
   "outputs": [
    {
     "data": {
      "text/html": [
       "<div>\n",
       "<style>\n",
       "    .dataframe thead tr:only-child th {\n",
       "        text-align: right;\n",
       "    }\n",
       "\n",
       "    .dataframe thead th {\n",
       "        text-align: left;\n",
       "    }\n",
       "\n",
       "    .dataframe tbody tr th {\n",
       "        vertical-align: top;\n",
       "    }\n",
       "</style>\n",
       "<table border=\"1\" class=\"dataframe\">\n",
       "  <thead>\n",
       "    <tr style=\"text-align: right;\">\n",
       "      <th></th>\n",
       "      <th>PARK</th>\n",
       "      <th>Created Date</th>\n",
       "      <th>Closed Date</th>\n",
       "      <th>Agency</th>\n",
       "      <th>Complaint Type</th>\n",
       "      <th>Descriptor</th>\n",
       "      <th>Incident Zip</th>\n",
       "      <th>City</th>\n",
       "      <th>Status</th>\n",
       "      <th>Borough</th>\n",
       "      <th>...</th>\n",
       "      <th>Removing Flowers/Plants</th>\n",
       "      <th>Smoking</th>\n",
       "      <th>Unauthorized Climbing</th>\n",
       "      <th>Unauthorized Film Shoot</th>\n",
       "      <th>Unauthorized Posting of Signs</th>\n",
       "      <th>Unlicensed Vendors</th>\n",
       "      <th>Unsafe Use of Playground</th>\n",
       "      <th>Use of Newly Seeded Lawn</th>\n",
       "      <th>SIZE (ACRES)</th>\n",
       "      <th>TOTAL</th>\n",
       "    </tr>\n",
       "  </thead>\n",
       "  <tbody>\n",
       "    <tr>\n",
       "      <th>0</th>\n",
       "      <td>MCCARREN PARK</td>\n",
       "      <td>12/28/2016 13:48</td>\n",
       "      <td>12/29/2016 13:02</td>\n",
       "      <td>DPR</td>\n",
       "      <td>Violation of Park Rules</td>\n",
       "      <td>Obstructing Public Use</td>\n",
       "      <td>11211.0</td>\n",
       "      <td>BROOKLYN</td>\n",
       "      <td>Closed</td>\n",
       "      <td>BROOKLYN</td>\n",
       "      <td>...</td>\n",
       "      <td>0</td>\n",
       "      <td>0</td>\n",
       "      <td>0</td>\n",
       "      <td>0</td>\n",
       "      <td>0</td>\n",
       "      <td>0</td>\n",
       "      <td>0</td>\n",
       "      <td>0</td>\n",
       "      <td>35.713</td>\n",
       "      <td>0.0</td>\n",
       "    </tr>\n",
       "    <tr>\n",
       "      <th>2</th>\n",
       "      <td>CITY HALL PARK</td>\n",
       "      <td>12/28/2016 11:41</td>\n",
       "      <td>4/1/2017 13:54</td>\n",
       "      <td>DPR</td>\n",
       "      <td>Violation of Park Rules</td>\n",
       "      <td>Unlicensed Vendors</td>\n",
       "      <td>10007.0</td>\n",
       "      <td>NEW YORK</td>\n",
       "      <td>Closed</td>\n",
       "      <td>MANHATTAN</td>\n",
       "      <td>...</td>\n",
       "      <td>0</td>\n",
       "      <td>0</td>\n",
       "      <td>0</td>\n",
       "      <td>0</td>\n",
       "      <td>0</td>\n",
       "      <td>1</td>\n",
       "      <td>0</td>\n",
       "      <td>0</td>\n",
       "      <td>8.800</td>\n",
       "      <td>0.0</td>\n",
       "    </tr>\n",
       "    <tr>\n",
       "      <th>3</th>\n",
       "      <td>ALEXANDER HAMILTON PLAYGROUND</td>\n",
       "      <td>12/27/2016 13:06</td>\n",
       "      <td>4/1/2017 13:54</td>\n",
       "      <td>DPR</td>\n",
       "      <td>Violation of Park Rules</td>\n",
       "      <td>Unsafe Use of Playground</td>\n",
       "      <td>10031.0</td>\n",
       "      <td>NEW YORK</td>\n",
       "      <td>Closed</td>\n",
       "      <td>MANHATTAN</td>\n",
       "      <td>...</td>\n",
       "      <td>0</td>\n",
       "      <td>0</td>\n",
       "      <td>0</td>\n",
       "      <td>0</td>\n",
       "      <td>0</td>\n",
       "      <td>0</td>\n",
       "      <td>1</td>\n",
       "      <td>0</td>\n",
       "      <td>0.811</td>\n",
       "      <td>0.0</td>\n",
       "    </tr>\n",
       "    <tr>\n",
       "      <th>4</th>\n",
       "      <td>ALLEY POND PARK</td>\n",
       "      <td>12/26/2016 12:43</td>\n",
       "      <td>12/26/2016 12:57</td>\n",
       "      <td>DPR</td>\n",
       "      <td>Violation of Park Rules</td>\n",
       "      <td>Obstructing Public Use</td>\n",
       "      <td>11426.0</td>\n",
       "      <td>BELLEROSE</td>\n",
       "      <td>Closed</td>\n",
       "      <td>QUEENS</td>\n",
       "      <td>...</td>\n",
       "      <td>0</td>\n",
       "      <td>0</td>\n",
       "      <td>0</td>\n",
       "      <td>0</td>\n",
       "      <td>0</td>\n",
       "      <td>0</td>\n",
       "      <td>0</td>\n",
       "      <td>0</td>\n",
       "      <td>635.514</td>\n",
       "      <td>0.0</td>\n",
       "    </tr>\n",
       "    <tr>\n",
       "      <th>5</th>\n",
       "      <td>FERRY POINT PARK</td>\n",
       "      <td>12/26/2016 10:23</td>\n",
       "      <td>12/26/2016 10:57</td>\n",
       "      <td>DPR</td>\n",
       "      <td>Violation of Park Rules</td>\n",
       "      <td>Obstructing Public Use</td>\n",
       "      <td>10465.0</td>\n",
       "      <td>BRONX</td>\n",
       "      <td>Closed</td>\n",
       "      <td>BRONX</td>\n",
       "      <td>...</td>\n",
       "      <td>0</td>\n",
       "      <td>0</td>\n",
       "      <td>0</td>\n",
       "      <td>0</td>\n",
       "      <td>0</td>\n",
       "      <td>0</td>\n",
       "      <td>0</td>\n",
       "      <td>0</td>\n",
       "      <td>413.800</td>\n",
       "      <td>0.0</td>\n",
       "    </tr>\n",
       "  </tbody>\n",
       "</table>\n",
       "<p>5 rows × 33 columns</p>\n",
       "</div>"
      ],
      "text/plain": [
       "                            PARK      Created Date       Closed Date Agency  \\\n",
       "0                  MCCARREN PARK  12/28/2016 13:48  12/29/2016 13:02    DPR   \n",
       "2                 CITY HALL PARK  12/28/2016 11:41    4/1/2017 13:54    DPR   \n",
       "3  ALEXANDER HAMILTON PLAYGROUND  12/27/2016 13:06    4/1/2017 13:54    DPR   \n",
       "4                ALLEY POND PARK  12/26/2016 12:43  12/26/2016 12:57    DPR   \n",
       "5               FERRY POINT PARK  12/26/2016 10:23  12/26/2016 10:57    DPR   \n",
       "\n",
       "            Complaint Type                Descriptor  Incident Zip       City  \\\n",
       "0  Violation of Park Rules    Obstructing Public Use       11211.0   BROOKLYN   \n",
       "2  Violation of Park Rules        Unlicensed Vendors       10007.0   NEW YORK   \n",
       "3  Violation of Park Rules  Unsafe Use of Playground       10031.0   NEW YORK   \n",
       "4  Violation of Park Rules    Obstructing Public Use       11426.0  BELLEROSE   \n",
       "5  Violation of Park Rules    Obstructing Public Use       10465.0      BRONX   \n",
       "\n",
       "   Status    Borough  ...   Removing Flowers/Plants Smoking  \\\n",
       "0  Closed   BROOKLYN  ...                         0       0   \n",
       "2  Closed  MANHATTAN  ...                         0       0   \n",
       "3  Closed  MANHATTAN  ...                         0       0   \n",
       "4  Closed     QUEENS  ...                         0       0   \n",
       "5  Closed      BRONX  ...                         0       0   \n",
       "\n",
       "  Unauthorized Climbing Unauthorized Film Shoot Unauthorized Posting of Signs  \\\n",
       "0                     0                       0                             0   \n",
       "2                     0                       0                             0   \n",
       "3                     0                       0                             0   \n",
       "4                     0                       0                             0   \n",
       "5                     0                       0                             0   \n",
       "\n",
       "  Unlicensed Vendors  Unsafe Use of Playground  Use of Newly Seeded Lawn  \\\n",
       "0                  0                         0                         0   \n",
       "2                  1                         0                         0   \n",
       "3                  0                         1                         0   \n",
       "4                  0                         0                         0   \n",
       "5                  0                         0                         0   \n",
       "\n",
       "  SIZE (ACRES)  TOTAL  \n",
       "0       35.713    0.0  \n",
       "2        8.800    0.0  \n",
       "3        0.811    0.0  \n",
       "4      635.514    0.0  \n",
       "5      413.800    0.0  \n",
       "\n",
       "[5 rows x 33 columns]"
      ]
     },
     "execution_count": 66,
     "metadata": {},
     "output_type": "execute_result"
    }
   ],
   "source": [
    "result.head()"
   ]
  },
  {
   "cell_type": "code",
   "execution_count": 33,
   "metadata": {
    "collapsed": true
   },
   "outputs": [],
   "source": [
    "features.append('TOTAL')"
   ]
  },
  {
   "cell_type": "code",
   "execution_count": 44,
   "metadata": {},
   "outputs": [
    {
     "name": "stdout",
     "output_type": "stream",
     "text": [
      "(0.0, 17.0)\n"
     ]
    }
   ],
   "source": [
    "print(result['TOTAL'].min(),result.TOTAL.max())"
   ]
  },
  {
   "cell_type": "code",
   "execution_count": 42,
   "metadata": {},
   "outputs": [
    {
     "data": {
      "text/plain": [
       "0.6211121583411876"
      ]
     },
     "execution_count": 42,
     "metadata": {},
     "output_type": "execute_result"
    }
   ],
   "source": [
    "x = result[features]\n",
    "y = result['ActionNeeded']\n",
    "result = result[result.TOTAL.notnull()]\n",
    "model = LogisticRegression()\n",
    "model = model.fit(x, y)\n",
    "model.score(x, y)"
   ]
  },
  {
   "cell_type": "code",
   "execution_count": 64,
   "metadata": {
    "collapsed": true
   },
   "outputs": [],
   "source": [
    "features.append('SIZE (ACRES)')"
   ]
  },
  {
   "cell_type": "code",
   "execution_count": 61,
   "metadata": {},
   "outputs": [],
   "source": []
  },
  {
   "cell_type": "code",
   "execution_count": 65,
   "metadata": {},
   "outputs": [
    {
     "data": {
      "text/plain": [
       "0.64090480678605088"
      ]
     },
     "execution_count": 65,
     "metadata": {},
     "output_type": "execute_result"
    }
   ],
   "source": [
    "x = result[features]\n",
    "y = result['ActionNeeded']\n",
    "model = LogisticRegression()\n",
    "model = model.fit(x, y)\n",
    "model.score(x, y)"
   ]
  },
  {
   "cell_type": "code",
   "execution_count": 71,
   "metadata": {},
   "outputs": [
    {
     "name": "stdout",
     "output_type": "stream",
     "text": [
      "Model accuracy using descriptions of the park complaint as  well as historical crime records: 0.640904806786\n"
     ]
    }
   ],
   "source": [
    "print('Model accuracy using descriptions of the park complaint as  well as historical crime records: ' + str(model.score(x, y)))"
   ]
  },
  {
   "cell_type": "markdown",
   "metadata": {},
   "source": [
    "## Conclusion\n",
    "Observing the scores from above it appears the crime data did not provide any additional help when using park descriptors to determine if the Department of Parks and Recreation need to take action. From the descriptors alone the model had a 64% accuracy rate. If there were more crime data available other than Q4 2014 crime data perhaps the strength of the model would increase. With higher accuracy this model could help the department where to effectively spend their resources."
   ]
  },
  {
   "cell_type": "code",
   "execution_count": null,
   "metadata": {
    "collapsed": true
   },
   "outputs": [],
   "source": []
  }
 ],
 "metadata": {
  "kernelspec": {
   "display_name": "Python 2",
   "language": "python",
   "name": "python2"
  },
  "language_info": {
   "codemirror_mode": {
    "name": "ipython",
    "version": 2
   },
   "file_extension": ".py",
   "mimetype": "text/x-python",
   "name": "python",
   "nbconvert_exporter": "python",
   "pygments_lexer": "ipython2",
   "version": "2.7.13"
  }
 },
 "nbformat": 4,
 "nbformat_minor": 1
}
